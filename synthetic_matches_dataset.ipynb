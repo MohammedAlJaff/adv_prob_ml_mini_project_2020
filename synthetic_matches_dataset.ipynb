{
 "cells": [
  {
   "cell_type": "code",
   "execution_count": 3,
   "metadata": {},
   "outputs": [],
   "source": [
    "import numpy as np \n",
    "import pandas as pd"
   ]
  },
  {
   "cell_type": "code",
   "execution_count": 4,
   "metadata": {},
   "outputs": [
    {
     "data": {
      "text/html": [
       "<div>\n",
       "<style scoped>\n",
       "    .dataframe tbody tr th:only-of-type {\n",
       "        vertical-align: middle;\n",
       "    }\n",
       "\n",
       "    .dataframe tbody tr th {\n",
       "        vertical-align: top;\n",
       "    }\n",
       "\n",
       "    .dataframe thead th {\n",
       "        text-align: right;\n",
       "    }\n",
       "</style>\n",
       "<table border=\"1\" class=\"dataframe\">\n",
       "  <thead>\n",
       "    <tr style=\"text-align: right;\">\n",
       "      <th></th>\n",
       "      <th>yyyy-mm-dd</th>\n",
       "      <th>HH:MM</th>\n",
       "      <th>team1</th>\n",
       "      <th>team2</th>\n",
       "      <th>score1</th>\n",
       "      <th>score2</th>\n",
       "    </tr>\n",
       "  </thead>\n",
       "  <tbody>\n",
       "    <tr>\n",
       "      <th>0</th>\n",
       "      <td>2018-08-18</td>\n",
       "      <td>18:00</td>\n",
       "      <td>Chievo</td>\n",
       "      <td>Juventus</td>\n",
       "      <td>2</td>\n",
       "      <td>3</td>\n",
       "    </tr>\n",
       "    <tr>\n",
       "      <th>1</th>\n",
       "      <td>2018-08-18</td>\n",
       "      <td>20:30</td>\n",
       "      <td>Lazio</td>\n",
       "      <td>Napoli</td>\n",
       "      <td>1</td>\n",
       "      <td>2</td>\n",
       "    </tr>\n",
       "    <tr>\n",
       "      <th>2</th>\n",
       "      <td>2018-08-19</td>\n",
       "      <td>18:00</td>\n",
       "      <td>Torino</td>\n",
       "      <td>Roma</td>\n",
       "      <td>0</td>\n",
       "      <td>1</td>\n",
       "    </tr>\n",
       "    <tr>\n",
       "      <th>3</th>\n",
       "      <td>2018-08-19</td>\n",
       "      <td>20:30</td>\n",
       "      <td>Sassuolo</td>\n",
       "      <td>Inter</td>\n",
       "      <td>1</td>\n",
       "      <td>0</td>\n",
       "    </tr>\n",
       "    <tr>\n",
       "      <th>4</th>\n",
       "      <td>2018-08-19</td>\n",
       "      <td>20:30</td>\n",
       "      <td>Parma</td>\n",
       "      <td>Udinese</td>\n",
       "      <td>2</td>\n",
       "      <td>2</td>\n",
       "    </tr>\n",
       "    <tr>\n",
       "      <th>...</th>\n",
       "      <td>...</td>\n",
       "      <td>...</td>\n",
       "      <td>...</td>\n",
       "      <td>...</td>\n",
       "      <td>...</td>\n",
       "      <td>...</td>\n",
       "    </tr>\n",
       "    <tr>\n",
       "      <th>375</th>\n",
       "      <td>2019-05-26</td>\n",
       "      <td>20:30</td>\n",
       "      <td>Roma</td>\n",
       "      <td>Parma</td>\n",
       "      <td>2</td>\n",
       "      <td>1</td>\n",
       "    </tr>\n",
       "    <tr>\n",
       "      <th>376</th>\n",
       "      <td>2019-05-26</td>\n",
       "      <td>20:30</td>\n",
       "      <td>Inter</td>\n",
       "      <td>Empoli</td>\n",
       "      <td>2</td>\n",
       "      <td>1</td>\n",
       "    </tr>\n",
       "    <tr>\n",
       "      <th>377</th>\n",
       "      <td>2019-05-26</td>\n",
       "      <td>20:30</td>\n",
       "      <td>Fiorentina</td>\n",
       "      <td>Genoa</td>\n",
       "      <td>0</td>\n",
       "      <td>0</td>\n",
       "    </tr>\n",
       "    <tr>\n",
       "      <th>378</th>\n",
       "      <td>2019-05-26</td>\n",
       "      <td>20:30</td>\n",
       "      <td>Cagliari</td>\n",
       "      <td>Udinese</td>\n",
       "      <td>1</td>\n",
       "      <td>2</td>\n",
       "    </tr>\n",
       "    <tr>\n",
       "      <th>379</th>\n",
       "      <td>2019-05-26</td>\n",
       "      <td>20:30</td>\n",
       "      <td>Atalanta</td>\n",
       "      <td>Sassuolo</td>\n",
       "      <td>3</td>\n",
       "      <td>1</td>\n",
       "    </tr>\n",
       "  </tbody>\n",
       "</table>\n",
       "<p>380 rows × 6 columns</p>\n",
       "</div>"
      ],
      "text/plain": [
       "     yyyy-mm-dd  HH:MM       team1     team2  score1  score2\n",
       "0    2018-08-18  18:00      Chievo  Juventus       2       3\n",
       "1    2018-08-18  20:30       Lazio    Napoli       1       2\n",
       "2    2018-08-19  18:00      Torino      Roma       0       1\n",
       "3    2018-08-19  20:30    Sassuolo     Inter       1       0\n",
       "4    2018-08-19  20:30       Parma   Udinese       2       2\n",
       "..          ...    ...         ...       ...     ...     ...\n",
       "375  2019-05-26  20:30        Roma     Parma       2       1\n",
       "376  2019-05-26  20:30       Inter    Empoli       2       1\n",
       "377  2019-05-26  20:30  Fiorentina     Genoa       0       0\n",
       "378  2019-05-26  20:30    Cagliari   Udinese       1       2\n",
       "379  2019-05-26  20:30    Atalanta  Sassuolo       3       1\n",
       "\n",
       "[380 rows x 6 columns]"
      ]
     },
     "execution_count": 4,
     "metadata": {},
     "output_type": "execute_result"
    }
   ],
   "source": [
    "# read and load csv to pandas data frame \n",
    "# take out colmumn # with teams\n",
    "# make a set out of these so that each team name is unique/ occurs only once. \n",
    "# make a double for loop for loop 2 x so that each team playes against each other \n",
    "\n",
    "\n",
    "match_table = pd.read_csv('SerieA.csv')\n",
    "match_table"
   ]
  },
  {
   "cell_type": "code",
   "execution_count": 7,
   "metadata": {},
   "outputs": [
    {
     "data": {
      "text/plain": [
       "20"
      ]
     },
     "execution_count": 7,
     "metadata": {},
     "output_type": "execute_result"
    }
   ],
   "source": [
    "all_teams = match_table.team1.unique()\n",
    "\n",
    "len(all_teams)\n"
   ]
  },
  {
   "cell_type": "code",
   "execution_count": 15,
   "metadata": {},
   "outputs": [],
   "source": [
    "synthetic_match_table = pd.DataFrame(columns=['team1', 'team2', 'result'])\n",
    "\n",
    "for i in range(len(all_teams)):\n",
    "    for j in range(i+1, len(all_teams)):\n",
    "        team1 = all_teams[i]\n",
    "        team2 = all_teams[j]\n",
    "        \n",
    "        if team1 < team2 : \n",
    "            match_outcome = 1\n",
    "        else:\n",
    "            match_outcome = -1\n",
    "            \n",
    "        synthetic_match_table = synthetic_match_table.append({'team1': team1, 'team2':team2, 'result':match_outcome}, ignore_index=True)\n",
    "        #print(team1, ' - ', team2, ': ', match_outcome)\n",
    "\n",
    "for i in range(len(all_teams)):\n",
    "    for j in range(i+1, len(all_teams)):\n",
    "        team2 = all_teams[i]\n",
    "        team1 = all_teams[j]\n",
    "        \n",
    "        if team1 < team2 : \n",
    "            match_outcome = 1\n",
    "        else:\n",
    "            match_outcome = -1\n",
    "            \n",
    "        synthetic_match_table = synthetic_match_table.append({'team1': team1, 'team2':team2, 'result':match_outcome}, ignore_index=True)\n",
    "        #print(team1, ' - ', team2, ': ', match_outcome)"
   ]
  },
  {
   "cell_type": "code",
   "execution_count": null,
   "metadata": {},
   "outputs": [],
   "source": []
  },
  {
   "cell_type": "code",
   "execution_count": 17,
   "metadata": {},
   "outputs": [],
   "source": [
    "synthetic_match_table.to_csv('syntheticSerieA.csv', sep=',', index=False)"
   ]
  },
  {
   "cell_type": "code",
   "execution_count": 18,
   "metadata": {},
   "outputs": [],
   "source": [
    "true_rank_all_teams = list(all_teams)\n",
    "true_rank_all_teams.sort()"
   ]
  },
  {
   "cell_type": "code",
   "execution_count": 19,
   "metadata": {},
   "outputs": [
    {
     "data": {
      "text/plain": [
       "['Atalanta',\n",
       " 'Bologna',\n",
       " 'Cagliari',\n",
       " 'Chievo',\n",
       " 'Empoli',\n",
       " 'Fiorentina',\n",
       " 'Frosinone',\n",
       " 'Genoa',\n",
       " 'Inter',\n",
       " 'Juventus',\n",
       " 'Lazio',\n",
       " 'Milan',\n",
       " 'Napoli',\n",
       " 'Parma',\n",
       " 'Roma',\n",
       " 'Sampdoria',\n",
       " 'Sassuolo',\n",
       " 'Spal',\n",
       " 'Torino',\n",
       " 'Udinese']"
      ]
     },
     "execution_count": 19,
     "metadata": {},
     "output_type": "execute_result"
    }
   ],
   "source": [
    "true_rank_all_teams"
   ]
  },
  {
   "cell_type": "code",
   "execution_count": null,
   "metadata": {},
   "outputs": [],
   "source": []
  }
 ],
 "metadata": {
  "kernelspec": {
   "display_name": "Python 3",
   "language": "python",
   "name": "python3"
  },
  "language_info": {
   "codemirror_mode": {
    "name": "ipython",
    "version": 3
   },
   "file_extension": ".py",
   "mimetype": "text/x-python",
   "name": "python",
   "nbconvert_exporter": "python",
   "pygments_lexer": "ipython3",
   "version": "3.7.7"
  }
 },
 "nbformat": 4,
 "nbformat_minor": 4
}
